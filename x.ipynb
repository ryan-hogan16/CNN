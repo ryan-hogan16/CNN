{
 "cells": [
  {
   "cell_type": "code",
   "execution_count": 17,
   "metadata": {
    "collapsed": true
   },
   "outputs": [
    {
     "ename": "ValueError",
     "evalue": "continue is not a valid display_mode. Valid options are ['ortho', 'tiled', 'x', 'xz', 'y', 'yx', 'yz', 'z']",
     "output_type": "error",
     "traceback": [
      "\u001B[1;31m---------------------------------------------------------------------------\u001B[0m",
      "\u001B[1;31mKeyError\u001B[0m                                  Traceback (most recent call last)",
      "\u001B[1;32md:\\users\\ryan\\downloads\\cnn_streamlit\\lib\\site-packages\\nilearn\\plotting\\displays.py\u001B[0m in \u001B[0;36mget_create_display_fun\u001B[1;34m(display_mode, class_dict)\u001B[0m\n\u001B[0;32m   1949\u001B[0m     \u001B[1;32mtry\u001B[0m\u001B[1;33m:\u001B[0m\u001B[1;33m\u001B[0m\u001B[1;33m\u001B[0m\u001B[0m\n\u001B[1;32m-> 1950\u001B[1;33m         \u001B[1;32mreturn\u001B[0m \u001B[0mclass_dict\u001B[0m\u001B[1;33m[\u001B[0m\u001B[0mdisplay_mode\u001B[0m\u001B[1;33m]\u001B[0m\u001B[1;33m.\u001B[0m\u001B[0minit_with_figure\u001B[0m\u001B[1;33m\u001B[0m\u001B[1;33m\u001B[0m\u001B[0m\n\u001B[0m\u001B[0;32m   1951\u001B[0m     \u001B[1;32mexcept\u001B[0m \u001B[0mKeyError\u001B[0m\u001B[1;33m:\u001B[0m\u001B[1;33m\u001B[0m\u001B[1;33m\u001B[0m\u001B[0m\n",
      "\u001B[1;31mKeyError\u001B[0m: 'continue'",
      "\nDuring handling of the above exception, another exception occurred:\n",
      "\u001B[1;31mValueError\u001B[0m                                Traceback (most recent call last)",
      "\u001B[1;32m<ipython-input-17-2776f1d96911>\u001B[0m in \u001B[0;36m<module>\u001B[1;34m\u001B[0m\n\u001B[0;32m     23\u001B[0m title = (\"ROIs using percentile thresholding. \"\n\u001B[0;32m     24\u001B[0m          \"\\n Each ROI in same color is an extracted region\")\n\u001B[1;32m---> 25\u001B[1;33m plotting.plot_prob_atlas(regions_percentile_img, bg_img='E:/wmADNI_002_S_0619_MR_MPR__GradWarp__N3__Scaled_Br_20070717184209073_S24022_I60451.nii',\n\u001B[0m\u001B[0;32m     26\u001B[0m                          \u001B[0mview_type\u001B[0m\u001B[1;33m=\u001B[0m\u001B[1;34m'contours'\u001B[0m\u001B[1;33m,\u001B[0m \u001B[0mdisplay_mode\u001B[0m\u001B[1;33m=\u001B[0m\u001B[1;34m'continue'\u001B[0m\u001B[1;33m,\u001B[0m\u001B[1;33m\u001B[0m\u001B[1;33m\u001B[0m\u001B[0m\n\u001B[0;32m     27\u001B[0m                           title=title)\n",
      "\u001B[1;32md:\\users\\ryan\\downloads\\cnn_streamlit\\lib\\site-packages\\nilearn\\plotting\\img_plotting.py\u001B[0m in \u001B[0;36mplot_prob_atlas\u001B[1;34m(maps_img, bg_img, view_type, threshold, linewidths, cut_coords, output_file, display_mode, figure, axes, title, annotate, draw_cross, black_bg, dim, colorbar, cmap, vmin, vmax, alpha, **kwargs)\u001B[0m\n\u001B[0;32m    951\u001B[0m     \"\"\"\n\u001B[0;32m    952\u001B[0m \u001B[1;33m\u001B[0m\u001B[0m\n\u001B[1;32m--> 953\u001B[1;33m     display = plot_anat(bg_img, cut_coords=cut_coords,\n\u001B[0m\u001B[0;32m    954\u001B[0m                         \u001B[0mdisplay_mode\u001B[0m\u001B[1;33m=\u001B[0m\u001B[0mdisplay_mode\u001B[0m\u001B[1;33m,\u001B[0m\u001B[1;33m\u001B[0m\u001B[1;33m\u001B[0m\u001B[0m\n\u001B[0;32m    955\u001B[0m                         \u001B[0mfigure\u001B[0m\u001B[1;33m=\u001B[0m\u001B[0mfigure\u001B[0m\u001B[1;33m,\u001B[0m \u001B[0maxes\u001B[0m\u001B[1;33m=\u001B[0m\u001B[0maxes\u001B[0m\u001B[1;33m,\u001B[0m \u001B[0mtitle\u001B[0m\u001B[1;33m=\u001B[0m\u001B[0mtitle\u001B[0m\u001B[1;33m,\u001B[0m\u001B[1;33m\u001B[0m\u001B[1;33m\u001B[0m\u001B[0m\n",
      "\u001B[1;32md:\\users\\ryan\\downloads\\cnn_streamlit\\lib\\site-packages\\nilearn\\plotting\\img_plotting.py\u001B[0m in \u001B[0;36mplot_anat\u001B[1;34m(anat_img, cut_coords, output_file, display_mode, figure, axes, title, annotate, threshold, draw_cross, black_bg, dim, cmap, vmin, vmax, **kwargs)\u001B[0m\n\u001B[0;32m    569\u001B[0m         \u001B[0mvmax\u001B[0m \u001B[1;33m=\u001B[0m \u001B[0manat_vmax\u001B[0m\u001B[1;33m\u001B[0m\u001B[1;33m\u001B[0m\u001B[0m\n\u001B[0;32m    570\u001B[0m \u001B[1;33m\u001B[0m\u001B[0m\n\u001B[1;32m--> 571\u001B[1;33m     display = plot_img(anat_img, cut_coords=cut_coords,\n\u001B[0m\u001B[0;32m    572\u001B[0m                        \u001B[0moutput_file\u001B[0m\u001B[1;33m=\u001B[0m\u001B[0moutput_file\u001B[0m\u001B[1;33m,\u001B[0m \u001B[0mdisplay_mode\u001B[0m\u001B[1;33m=\u001B[0m\u001B[0mdisplay_mode\u001B[0m\u001B[1;33m,\u001B[0m\u001B[1;33m\u001B[0m\u001B[1;33m\u001B[0m\u001B[0m\n\u001B[0;32m    573\u001B[0m                        \u001B[0mfigure\u001B[0m\u001B[1;33m=\u001B[0m\u001B[0mfigure\u001B[0m\u001B[1;33m,\u001B[0m \u001B[0maxes\u001B[0m\u001B[1;33m=\u001B[0m\u001B[0maxes\u001B[0m\u001B[1;33m,\u001B[0m \u001B[0mtitle\u001B[0m\u001B[1;33m=\u001B[0m\u001B[0mtitle\u001B[0m\u001B[1;33m,\u001B[0m\u001B[1;33m\u001B[0m\u001B[1;33m\u001B[0m\u001B[0m\n",
      "\u001B[1;32md:\\users\\ryan\\downloads\\cnn_streamlit\\lib\\site-packages\\nilearn\\plotting\\img_plotting.py\u001B[0m in \u001B[0;36mplot_img\u001B[1;34m(img, cut_coords, output_file, display_mode, figure, axes, title, threshold, annotate, draw_cross, black_bg, colorbar, resampling_interpolation, bg_img, vmin, vmax, **kwargs)\u001B[0m\n\u001B[0;32m    332\u001B[0m             \u001B[0mExtra\u001B[0m \u001B[0mkeyword\u001B[0m \u001B[0marguments\u001B[0m \u001B[0mpassed\u001B[0m \u001B[0mto\u001B[0m \u001B[0mmatplotlib\u001B[0m\u001B[1;33m.\u001B[0m\u001B[0mpyplot\u001B[0m\u001B[1;33m.\u001B[0m\u001B[0mimshow\u001B[0m\u001B[1;33m\u001B[0m\u001B[1;33m\u001B[0m\u001B[0m\n\u001B[0;32m    333\u001B[0m     \"\"\"  # noqa: E501\n\u001B[1;32m--> 334\u001B[1;33m     display = _plot_img_with_bg(\n\u001B[0m\u001B[0;32m    335\u001B[0m         \u001B[0mimg\u001B[0m\u001B[1;33m,\u001B[0m \u001B[0mcut_coords\u001B[0m\u001B[1;33m=\u001B[0m\u001B[0mcut_coords\u001B[0m\u001B[1;33m,\u001B[0m\u001B[1;33m\u001B[0m\u001B[1;33m\u001B[0m\u001B[0m\n\u001B[0;32m    336\u001B[0m         \u001B[0moutput_file\u001B[0m\u001B[1;33m=\u001B[0m\u001B[0moutput_file\u001B[0m\u001B[1;33m,\u001B[0m \u001B[0mdisplay_mode\u001B[0m\u001B[1;33m=\u001B[0m\u001B[0mdisplay_mode\u001B[0m\u001B[1;33m,\u001B[0m\u001B[1;33m\u001B[0m\u001B[1;33m\u001B[0m\u001B[0m\n",
      "\u001B[1;32md:\\users\\ryan\\downloads\\cnn_streamlit\\lib\\site-packages\\nilearn\\plotting\\img_plotting.py\u001B[0m in \u001B[0;36m_plot_img_with_bg\u001B[1;34m(img, bg_img, cut_coords, output_file, display_mode, colorbar, figure, axes, title, threshold, annotate, draw_cross, black_bg, vmin, vmax, bg_vmin, bg_vmax, interpolation, display_factory, cbar_vmin, cbar_vmax, brain_color, decimals, **kwargs)\u001B[0m\n\u001B[0;32m    173\u001B[0m         \u001B[0mimg\u001B[0m \u001B[1;33m=\u001B[0m \u001B[0mnew_img_like\u001B[0m\u001B[1;33m(\u001B[0m\u001B[0mimg\u001B[0m\u001B[1;33m,\u001B[0m \u001B[0mas_ndarray\u001B[0m\u001B[1;33m(\u001B[0m\u001B[0mdata\u001B[0m\u001B[1;33m)\u001B[0m\u001B[1;33m,\u001B[0m \u001B[0maffine\u001B[0m\u001B[1;33m)\u001B[0m\u001B[1;33m\u001B[0m\u001B[1;33m\u001B[0m\u001B[0m\n\u001B[0;32m    174\u001B[0m \u001B[1;33m\u001B[0m\u001B[0m\n\u001B[1;32m--> 175\u001B[1;33m     display = display_factory(display_mode)(\n\u001B[0m\u001B[0;32m    176\u001B[0m         \u001B[0mimg\u001B[0m\u001B[1;33m,\u001B[0m\u001B[1;33m\u001B[0m\u001B[1;33m\u001B[0m\u001B[0m\n\u001B[0;32m    177\u001B[0m         \u001B[0mthreshold\u001B[0m\u001B[1;33m=\u001B[0m\u001B[0mthreshold\u001B[0m\u001B[1;33m,\u001B[0m\u001B[1;33m\u001B[0m\u001B[1;33m\u001B[0m\u001B[0m\n",
      "\u001B[1;32md:\\users\\ryan\\downloads\\cnn_streamlit\\lib\\site-packages\\nilearn\\plotting\\displays.py\u001B[0m in \u001B[0;36mget_slicer\u001B[1;34m(display_mode)\u001B[0m\n\u001B[0;32m   1958\u001B[0m \u001B[1;32mdef\u001B[0m \u001B[0mget_slicer\u001B[0m\u001B[1;33m(\u001B[0m\u001B[0mdisplay_mode\u001B[0m\u001B[1;33m)\u001B[0m\u001B[1;33m:\u001B[0m\u001B[1;33m\u001B[0m\u001B[1;33m\u001B[0m\u001B[0m\n\u001B[0;32m   1959\u001B[0m     \u001B[1;34m\"Internal function to retrieve a slicer\"\u001B[0m\u001B[1;33m\u001B[0m\u001B[1;33m\u001B[0m\u001B[0m\n\u001B[1;32m-> 1960\u001B[1;33m     \u001B[1;32mreturn\u001B[0m \u001B[0mget_create_display_fun\u001B[0m\u001B[1;33m(\u001B[0m\u001B[0mdisplay_mode\u001B[0m\u001B[1;33m,\u001B[0m \u001B[0mSLICERS\u001B[0m\u001B[1;33m)\u001B[0m\u001B[1;33m\u001B[0m\u001B[1;33m\u001B[0m\u001B[0m\n\u001B[0m\u001B[0;32m   1961\u001B[0m \u001B[1;33m\u001B[0m\u001B[0m\n\u001B[0;32m   1962\u001B[0m \u001B[1;33m\u001B[0m\u001B[0m\n",
      "\u001B[1;32md:\\users\\ryan\\downloads\\cnn_streamlit\\lib\\site-packages\\nilearn\\plotting\\displays.py\u001B[0m in \u001B[0;36mget_create_display_fun\u001B[1;34m(display_mode, class_dict)\u001B[0m\n\u001B[0;32m   1953\u001B[0m                    \u001B[1;34m'Valid options are {1}'\u001B[0m\u001B[1;33m)\u001B[0m\u001B[1;33m.\u001B[0m\u001B[0mformat\u001B[0m\u001B[1;33m(\u001B[0m\u001B[1;33m\u001B[0m\u001B[1;33m\u001B[0m\u001B[0m\n\u001B[0;32m   1954\u001B[0m                         display_mode, sorted(class_dict.keys()))\n\u001B[1;32m-> 1955\u001B[1;33m         \u001B[1;32mraise\u001B[0m \u001B[0mValueError\u001B[0m\u001B[1;33m(\u001B[0m\u001B[0mmessage\u001B[0m\u001B[1;33m)\u001B[0m\u001B[1;33m\u001B[0m\u001B[1;33m\u001B[0m\u001B[0m\n\u001B[0m\u001B[0;32m   1956\u001B[0m \u001B[1;33m\u001B[0m\u001B[0m\n\u001B[0;32m   1957\u001B[0m \u001B[1;33m\u001B[0m\u001B[0m\n",
      "\u001B[1;31mValueError\u001B[0m: continue is not a valid display_mode. Valid options are ['ortho', 'tiled', 'x', 'xz', 'y', 'yx', 'yz', 'z']"
     ]
    }
   ],
   "source": [
    "from nilearn import plotting\n",
    "from nilearn.regions import connected_regions\n",
    "from nilearn.image import threshold_img\n",
    "\n",
    "threshold_percentile_img = threshold_img('E:/wmADNI_002_S_0619_MR_MPR__GradWarp__N3__Scaled_Br_20070717184209073_S24022_I60451.nii', threshold='90%', copy=False)\n",
    "regions_percentile_img, index = connected_regions(threshold_percentile_img,\n",
    "                                                  min_region_size=1500)\n",
    "title = (\"ROIs using percentile thresholding. \"\n",
    "         \"\\n Each ROI in same color is an extracted region\")\n",
    "plotting.plot_prob_atlas(regions_percentile_img, bg_img='E:/wmADNI_002_S_0619_MR_MPR__GradWarp__N3__Scaled_Br_20070717184209073_S24022_I60451.nii',\n",
    "                         view_type='contours', display_mode='continue',\n",
    "                          title=title)\n",
    "plotting.show()"
   ]
  },
  {
   "cell_type": "code",
   "execution_count": null,
   "outputs": [],
   "source": [
    "from nilearn import datasets\n",
    "\n",
    "localizer = datasets.fetch_neurovault_auditory_computation_task()\n",
    "tmap_filename = localizer.images[0]\n",
    "\n",
    "# Showing percentile threshold image\n",
    "plotting.plot_stat_map(threshold_percentile_img, display_mode='z', cut_coords=5,\n",
    "                       title='Threshold image with string percentile', colorbar=False)\n",
    "\n",
    "# Type 2: threshold strategy used will be based on image intensity\n",
    "# Here, threshold value should be within the limits i.e. less than max value.\n",
    "threshold_value_img = threshold_img(tmap_filename, threshold=3, copy=False)\n",
    "\n",
    "# Showing intensity threshold image\n",
    "plotting.plot_stat_map(threshold_value_img, display_mode='z', cut_coords=5,\n",
    "                       title='Threshold image with intensity value', colorbar=False)\n",
    "\n",
    "\n",
    "regions_value_img, index = connected_regions(threshold_value_img,\n",
    "                                             min_region_size=1500)\n",
    "\n",
    "\n",
    "title = (\"ROIs using image intensity thresholding. \"\n",
    "         \"\\n Each ROI in same color is an extracted region\")\n",
    "plotting.plot_prob_atlas(regions_value_img, bg_img=tmap_filename,\n",
    "                         view_type='contours', display_mode='z',\n",
    "                         cut_coords=5, title=title)"
   ],
   "metadata": {
    "collapsed": false,
    "pycharm": {
     "name": "#%%\n"
    }
   }
  }
 ],
 "metadata": {
  "kernelspec": {
   "display_name": "Python 3",
   "language": "python",
   "name": "python3"
  },
  "language_info": {
   "codemirror_mode": {
    "name": "ipython",
    "version": 2
   },
   "file_extension": ".py",
   "mimetype": "text/x-python",
   "name": "python",
   "nbconvert_exporter": "python",
   "pygments_lexer": "ipython2",
   "version": "2.7.6"
  }
 },
 "nbformat": 4,
 "nbformat_minor": 0
}